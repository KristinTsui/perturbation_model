{
 "cells": [
  {
   "cell_type": "markdown",
   "metadata": {},
   "source": [
    "### anndata2ri installation steps\n",
    "mamba create -n anndata2ri_env python=3.8\n",
    "mamba activate anndata2ri_env\n",
    "mamba install -c conda-forge r-base=4.1.3\n",
    "- to ensure compatibility between rpy2 and anndata2ri (went to their release website and look for similar release date)\n",
    "pip install rpy2==3.5.2 \n",
    "pip install anndata2ri==1.1\n",
    "\n",
    "Update: using anndata2ri to interface with R is too buggy --> going to run MNN in R "
   ]
  },
  {
   "cell_type": "code",
   "execution_count": 1,
   "metadata": {},
   "outputs": [],
   "source": [
    "import scanpy as sc"
   ]
  },
  {
   "cell_type": "code",
   "execution_count": 2,
   "metadata": {},
   "outputs": [],
   "source": [
    "\n",
    "adata = sc.read_h5ad(\"clono_filtered_counts_adata.h5ad\")"
   ]
  },
  {
   "cell_type": "code",
   "execution_count": null,
   "metadata": {},
   "outputs": [],
   "source": [
    "# load the integrated object (from R)\n",
    "integrated = sc.read_h5ad(\"integrated.h5ad\")"
   ]
  },
  {
   "cell_type": "code",
   "execution_count": null,
   "metadata": {},
   "outputs": [],
   "source": [
    "adata.X = integrated\n",
    "adata.layers[\"seurat_integrated\"] = integrated\n",
    "print(adata)\n",
    "adata.X"
   ]
  },
  {
   "cell_type": "code",
   "execution_count": null,
   "metadata": {},
   "outputs": [],
   "source": [
    "sc.tl.pca(adata)\n",
    "sc.pp.neighbors(adata)\n",
    "sc.tl.umap(adata)\n",
    "sc.pl.umap(adata, color=\"sample_source\", wspace=1)"
   ]
  }
 ],
 "metadata": {
  "kernelspec": {
   "display_name": "scGPT_env",
   "language": "python",
   "name": "python3"
  },
  "language_info": {
   "codemirror_mode": {
    "name": "ipython",
    "version": 3
   },
   "file_extension": ".py",
   "mimetype": "text/x-python",
   "name": "python",
   "nbconvert_exporter": "python",
   "pygments_lexer": "ipython3",
   "version": "3.1.undefined"
  }
 },
 "nbformat": 4,
 "nbformat_minor": 2
}
