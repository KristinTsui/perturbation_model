{
 "cells": [
  {
   "cell_type": "code",
   "execution_count": 2,
   "metadata": {},
   "outputs": [],
   "source": [
    "import scanpy as sc\n",
    "import scgen # pip install git+https://github.com/theislab/scgen.git\n",
    "import re\n",
    "# import numpy as np"
   ]
  },
  {
   "cell_type": "code",
   "execution_count": 3,
   "metadata": {},
   "outputs": [],
   "source": [
    "def get_clono_features(features):\n",
    "    patterns = [\n",
    "        \"TRAV\", \"TRAJ\", \"TRBV\", \"TRBJ\", \"TRDV\", \"TRDJ\", \"TRGV\", \"TRGJ\",\n",
    "        \"IGKV\", \"IGKJ\", \"IGLV\", \"IGLJ\", \"IGHV\", \"IGHJ\"\n",
    "    ]\n",
    "    additional_features = [\"XIST\", \"RPS4Y1\", \"RPS4Y2\", \"MT\"]\n",
    "\n",
    "    clono_features = []\n",
    "    \n",
    "    for pattern in patterns:\n",
    "        clono_features.extend([i for i, feature in enumerate(features) if re.search(pattern, feature)])\n",
    "    \n",
    "    clono_features.extend([i for i, feature in enumerate(features) if feature in additional_features])\n",
    "    \n",
    "    clono_features = np.unique(clono_features).tolist()\n",
    "    \n",
    "    return clono_features"
   ]
  },
  {
   "cell_type": "code",
   "execution_count": 7,
   "metadata": {},
   "outputs": [
    {
     "name": "stderr",
     "output_type": "stream",
     "text": [
      "/home/bench-user/.apps/conda/envs/scgen/lib/python3.9/site-packages/anndata/_core/aligned_df.py:67: ImplicitModificationWarning: Transforming to str index.\n",
      "  warnings.warn(\"Transforming to str index.\", ImplicitModificationWarning)\n",
      "/home/bench-user/.apps/conda/envs/scgen/lib/python3.9/site-packages/anndata/_core/aligned_df.py:67: ImplicitModificationWarning: Transforming to str index.\n",
      "  warnings.warn(\"Transforming to str index.\", ImplicitModificationWarning)\n"
     ]
    },
    {
     "data": {
      "text/plain": [
       "AnnData object with n_obs × n_vars = 25066 × 15369\n",
       "    obs: 'cell_id', 'nCount_RNA', 'nFeature_RNA', 'patient_id', 'percent_mito', 'Response_3m', 'sample_source'\n",
       "    var: 'gene_name'"
      ]
     },
     "execution_count": 7,
     "metadata": {},
     "output_type": "execute_result"
    }
   ],
   "source": [
    "adata = sc.read_h5ad(\"data/raw_counts_adata.h5ad\")\n",
    "adata"
   ]
  },
  {
   "cell_type": "code",
   "execution_count": 5,
   "metadata": {},
   "outputs": [],
   "source": [
    "import numpy as np"
   ]
  },
  {
   "cell_type": "code",
   "execution_count": null,
   "metadata": {},
   "outputs": [],
   "source": [
    "rm_gene_indices = get_clono_features(adata.var.gene_name.tolist())\n",
    "mask = np.ones(adata.X.shape[1], dtype=bool) # create a boolean mask for the genes to keep\n",
    "mask[rm_gene_indices] = False\n",
    "\n",
    "Tcell_data = adata[:, mask]"
   ]
  },
  {
   "cell_type": "code",
   "execution_count": 10,
   "metadata": {},
   "outputs": [
    {
     "data": {
      "text/plain": [
       "0        AP006222.2\n",
       "1            FAM87B\n",
       "2         LINC00115\n",
       "3            FAM41C\n",
       "4            SAMD11\n",
       "            ...    \n",
       "15364       MT-ND4L\n",
       "15365        MT-ND4\n",
       "15366        MT-ND5\n",
       "15367        MT-ND6\n",
       "15368        MT-CYB\n",
       "Name: gene_name, Length: 15369, dtype: object"
      ]
     },
     "execution_count": 10,
     "metadata": {},
     "output_type": "execute_result"
    }
   ],
   "source": [
    "adata.var.gene_name"
   ]
  },
  {
   "cell_type": "code",
   "execution_count": 11,
   "metadata": {},
   "outputs": [
    {
     "name": "stdout",
     "output_type": "stream",
     "text": [
      "dimension after removing selected genes: (25066, 15219)\n"
     ]
    }
   ],
   "source": [
    "remove_gene_indices = get_clono_features(adata.var.gene_name.tolist())\n",
    "mask = np.ones(adata.shape[1], dtype=bool)\n",
    "mask[remove_gene_indices] = False\n",
    "\n",
    "adata = adata[:,mask]\n",
    "\n",
    "print(\"dimension after removing selected genes:\", adata.X.shape) # remove 150 genes"
   ]
  },
  {
   "cell_type": "code",
   "execution_count": 13,
   "metadata": {},
   "outputs": [
    {
     "data": {
      "text/plain": [
       "Response_3m\n",
       "OR    12220\n",
       "NR    11906\n",
       "CR      940\n",
       "Name: count, dtype: int64"
      ]
     },
     "execution_count": 13,
     "metadata": {},
     "output_type": "execute_result"
    }
   ],
   "source": [
    "adata.obs[\"Response_3m\"].value_counts()"
   ]
  }
 ],
 "metadata": {
  "kernelspec": {
   "display_name": "scgen",
   "language": "python",
   "name": "python3"
  },
  "language_info": {
   "codemirror_mode": {
    "name": "ipython",
    "version": 3
   },
   "file_extension": ".py",
   "mimetype": "text/x-python",
   "name": "python",
   "nbconvert_exporter": "python",
   "pygments_lexer": "ipython3",
   "version": "3.9.19"
  }
 },
 "nbformat": 4,
 "nbformat_minor": 2
}
