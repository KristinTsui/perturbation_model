{
 "cells": [
  {
   "cell_type": "code",
   "execution_count": null,
   "metadata": {},
   "outputs": [],
   "source": [
    "# Data preprocessing\n",
    "## remove clonotype genes\n",
    "import re\n",
    "def get_clono_features(features):\n",
    "    patterns = [\n",
    "        \"TRAV\", \"TRAJ\", \"TRBV\", \"TRBJ\", \"TRDV\", \"TRDJ\", \"TRGV\", \"TRGJ\",\n",
    "        \"IGKV\", \"IGKJ\", \"IGLV\", \"IGLJ\", \"IGHV\", \"IGHJ\"\n",
    "    ]\n",
    "    additional_features = [\"XIST\", \"RPS4Y1\", \"RPS4Y2\"]\n",
    "\n",
    "    clono_mt_features = []\n",
    "    \n",
    "    for pattern in patterns:\n",
    "        clono_mt_features.extend([i for i, feature in enumerate(features) if re.search(pattern, feature)])\n",
    "    \n",
    "        clono_mt_features.extend([i for i, feature in enumerate(features) if feature in additional_features])\n",
    "\n",
    "        \n",
    "        clono_mt_features = np.unique(clono_mt_features).tolist()\n",
    "\n",
    "    clono_mt_features.extend([i for i, gene in enumerate(features) if gene.startswith(\"MT-\")])\n",
    "    \n",
    "    return clono_mt_features"
   ]
  },
  {
   "cell_type": "code",
   "execution_count": null,
   "metadata": {},
   "outputs": [],
   "source": [
    "# remove clonotype, sex and mitochondrial genes\n",
    "rm_gene_indices = get_clono_features(Good_data.var.features.tolist())\n",
    "mask = np.ones(Good_data.X.shape[1], dtype=bool) # create a boolean mask for the genes to keep\n",
    "mask[rm_gene_indices] = False\n",
    "\n",
    "Good_data = Good_data[:, mask]\n",
    "Good_dat"
   ]
  }
 ],
 "metadata": {
  "language_info": {
   "name": "python"
  }
 },
 "nbformat": 4,
 "nbformat_minor": 2
}
